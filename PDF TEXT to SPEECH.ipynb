{
 "cells": [
  {
   "cell_type": "code",
   "execution_count": 5,
   "id": "740eac4e",
   "metadata": {},
   "outputs": [],
   "source": [
    "#pip install PyPDF2\n",
    "#pip install pyttsx3"
   ]
  },
  {
   "cell_type": "code",
   "execution_count": null,
   "id": "5b6a0644",
   "metadata": {},
   "outputs": [],
   "source": [
    "# Import Liabries\n",
    "\n",
    "import PyPDF2\n",
    "import pyttsx3\n",
    "\n",
    "\n",
    "#Path of the file\n",
    "path = open(r'C:\\Users\\Souravroy\\Downloads\\Hannah_Montana.pdf', 'rb')\n",
    "\n",
    "#Create a file reader object\n",
    "pdfReader = PyPDF2.PdfFileReader(path)\n",
    "\n",
    "# read the page\n",
    "from_page = pdfReader.getPage(0)\n",
    "\n",
    "#extract text from pdf file\n",
    "text = from_page.extractText()\n",
    "\n",
    "#read the text\n",
    "speak = pyttsx3.init()\n",
    "speak.say(text)\n",
    "speak.runAndWait()\n"
   ]
  },
  {
   "cell_type": "code",
   "execution_count": null,
   "id": "272d437c",
   "metadata": {},
   "outputs": [],
   "source": []
  }
 ],
 "metadata": {
  "kernelspec": {
   "display_name": "Python 3 (ipykernel)",
   "language": "python",
   "name": "python3"
  },
  "language_info": {
   "codemirror_mode": {
    "name": "ipython",
    "version": 3
   },
   "file_extension": ".py",
   "mimetype": "text/x-python",
   "name": "python",
   "nbconvert_exporter": "python",
   "pygments_lexer": "ipython3",
   "version": "3.9.7"
  }
 },
 "nbformat": 4,
 "nbformat_minor": 5
}
