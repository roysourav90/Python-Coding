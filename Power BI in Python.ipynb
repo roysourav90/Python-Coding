{
 "cells": [
  {
   "cell_type": "code",
   "execution_count": 2,
   "id": "dc2a916f",
   "metadata": {},
   "outputs": [],
   "source": [
    "from powerbiclient import Report, models"
   ]
  },
  {
   "cell_type": "code",
   "execution_count": 3,
   "id": "37cbbced",
   "metadata": {},
   "outputs": [],
   "source": [
    "from powerbiclient.authentication import DeviceCodeLoginAuthentication"
   ]
  },
  {
   "cell_type": "code",
   "execution_count": 4,
   "id": "f94695a3",
   "metadata": {},
   "outputs": [
    {
     "name": "stdout",
     "output_type": "stream",
     "text": [
      "Performing interactive authentication. Please follow the instructions on the terminal.\n",
      " To sign in, use a web browser to open the page https://microsoft.com/devicelogin and enter the code EZKKMCX29 to authenticate.\n",
      "You have logged in.\n",
      "Interactive authentication successfully completed.\n"
     ]
    }
   ],
   "source": [
    "dev_auth = DeviceCodeLoginAuthentication()"
   ]
  },
  {
   "cell_type": "code",
   "execution_count": 23,
   "id": "8a70cd5d",
   "metadata": {},
   "outputs": [],
   "source": [
    "group_id = \"me/reports/32e85eb8-ad40-41c8-815b-72d8f3518539\"\n",
    "report_id = \"ReportSection62976e960c4a57200e44\""
   ]
  },
  {
   "cell_type": "code",
   "execution_count": 25,
   "id": "7ede3943",
   "metadata": {},
   "outputs": [],
   "source": [
    "report = Report(group_id=group_id, report_id=report_id, auth=dev_auth)"
   ]
  },
  {
   "cell_type": "code",
   "execution_count": null,
   "id": "7ef4c307",
   "metadata": {},
   "outputs": [],
   "source": [
    "report"
   ]
  }
 ],
 "metadata": {
  "kernelspec": {
   "display_name": "financialrisk",
   "language": "python",
   "name": "financialrisk"
  },
  "language_info": {
   "codemirror_mode": {
    "name": "ipython",
    "version": 3
   },
   "file_extension": ".py",
   "mimetype": "text/x-python",
   "name": "python",
   "nbconvert_exporter": "python",
   "pygments_lexer": "ipython3",
   "version": "3.8.12"
  }
 },
 "nbformat": 4,
 "nbformat_minor": 5
}
